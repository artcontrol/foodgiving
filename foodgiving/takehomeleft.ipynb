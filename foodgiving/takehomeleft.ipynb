{
 "cells": [
  {
   "cell_type": "markdown",
   "metadata": {},
   "source": [
    "Take Home Left\n",
    "\n",
    "controller for food leftovers. python functions."
   ]
  },
  {
   "cell_type": "code",
   "execution_count": 54,
   "metadata": {},
   "outputs": [],
   "source": [
    "import sqlite3\n",
    "import arrow\n",
    "from passlib.apps import custom_app_context as pwd_context"
   ]
  },
  {
   "cell_type": "code",
   "execution_count": 66,
   "metadata": {},
   "outputs": [],
   "source": [
    "def createReviewDB(namedb):\n",
    "    conn = sqlite3.connect('{}.db'.format(namedb))\n",
    "    c = conn.cursor()\n",
    "\n",
    "    # Create table\n",
    "    c.execute('''CREATE TABLE reviews (myid integer, forid integer, foodid integer, rating integer, comments text, datetime text)''')\n",
    "\n",
    "    "
   ]
  },
  {
   "cell_type": "code",
   "execution_count": 70,
   "metadata": {},
   "outputs": [],
   "source": [
    "def createReview(myid, forid, idfood, rating, comments):\n",
    "    timnow = arrow.utcnow()\n",
    "    \n",
    "    #str(timnow.datetime)\n",
    "    \n",
    "    conn = sqlite3.connect('foodentry.db')\n",
    "    c = conn.cursor()\n",
    "    c.execute(\"INSERT INTO reviews VALUES ('{}', '{}', '{}', '{}', '{}', '{}')\".format(myid, forid, idfood, rating, \n",
    "                                                                              comments, \n",
    "                                                                              str(timnow.datetime)))\n",
    "    \n",
    "    conn.commit()\n",
    "\n",
    "    # We can also close the connection if we are done with it.\n",
    "    # Just be sure any changes have been committed or they will be lost.\n",
    "    conn.close()"
   ]
  },
  {
   "cell_type": "code",
   "execution_count": 75,
   "metadata": {},
   "outputs": [],
   "source": [
    "def lookupReviews():\n",
    "    conn = sqlite3.connect('foodentry.db')\n",
    "    c = conn.cursor()\n",
    "    allfod = c.execute('SELECT * FROM reviews')\n",
    "    return(allfod.fetchall())\n",
    "    \n",
    "    "
   ]
  },
  {
   "cell_type": "code",
   "execution_count": 77,
   "metadata": {},
   "outputs": [],
   "source": [
    "def lookupMyReviews(myid):\n",
    "    conn = sqlite3.connect('foodentry.db')\n",
    "    c = conn.cursor()\n",
    "    allfod = c.execute('SELECT * FROM reviews WHERE myid OR forid = {}'.format(myid))\n",
    "    return(allfod.fetchall())"
   ]
  },
  {
   "cell_type": "code",
   "execution_count": 78,
   "metadata": {},
   "outputs": [
    {
     "data": {
      "text/plain": [
       "[('1', '2', 5.0, 'super good food', '2018-12-15 01:49:43.547514+00:00')]"
      ]
     },
     "execution_count": 78,
     "metadata": {},
     "output_type": "execute_result"
    }
   ],
   "source": [
    "#LookupMyReviews(1)"
   ]
  },
  {
   "cell_type": "code",
   "execution_count": null,
   "metadata": {},
   "outputs": [],
   "source": []
  },
  {
   "cell_type": "code",
   "execution_count": 71,
   "metadata": {},
   "outputs": [
    {
     "ename": "OperationalError",
     "evalue": "table reviews already exists",
     "output_type": "error",
     "traceback": [
      "\u001b[0;31m---------------------------------------------------------------------------\u001b[0m",
      "\u001b[0;31mOperationalError\u001b[0m                          Traceback (most recent call last)",
      "\u001b[0;32m<ipython-input-71-c6576226bdf3>\u001b[0m in \u001b[0;36m<module>\u001b[0;34m\u001b[0m\n\u001b[0;32m----> 1\u001b[0;31m \u001b[0mcreatereviewdb\u001b[0m\u001b[0;34m(\u001b[0m\u001b[0;34m'foodentry'\u001b[0m\u001b[0;34m)\u001b[0m\u001b[0;34m\u001b[0m\u001b[0m\n\u001b[0m",
      "\u001b[0;32m<ipython-input-66-f9babf344311>\u001b[0m in \u001b[0;36mcreatereviewdb\u001b[0;34m(namedb)\u001b[0m\n\u001b[1;32m      5\u001b[0m     \u001b[0;31m# Create table\u001b[0m\u001b[0;34m\u001b[0m\u001b[0;34m\u001b[0m\u001b[0m\n\u001b[1;32m      6\u001b[0m     c.execute('''CREATE TABLE reviews\n\u001b[0;32m----> 7\u001b[0;31m              (myid real, forid real, rating real, comments text, datetime text)''')\n\u001b[0m\u001b[1;32m      8\u001b[0m \u001b[0;34m\u001b[0m\u001b[0m\n\u001b[1;32m      9\u001b[0m \u001b[0;34m\u001b[0m\u001b[0m\n",
      "\u001b[0;31mOperationalError\u001b[0m: table reviews already exists"
     ]
    }
   ],
   "source": [
    "#createreviewdb('foodentry')"
   ]
  },
  {
   "cell_type": "code",
   "execution_count": 72,
   "metadata": {},
   "outputs": [],
   "source": [
    "#createreview(1, 2, 5, 'super good food')"
   ]
  },
  {
   "cell_type": "code",
   "execution_count": 76,
   "metadata": {},
   "outputs": [
    {
     "data": {
      "text/plain": [
       "[('1', '2', 5.0, 'super good food', '2018-12-15 01:49:43.547514+00:00')]"
      ]
     },
     "execution_count": 76,
     "metadata": {},
     "output_type": "execute_result"
    }
   ],
   "source": [
    "#loopupreviews()"
   ]
  },
  {
   "cell_type": "code",
   "execution_count": null,
   "metadata": {},
   "outputs": [],
   "source": []
  },
  {
   "cell_type": "code",
   "execution_count": null,
   "metadata": {},
   "outputs": [],
   "source": [
    "def createUserDB(namedb):\n",
    "    conn = sqlite3.connect('{}.db'.format(namedb))\n",
    "    c = conn.cursor()\n",
    "\n",
    "    # Create table\n",
    "    c.execute('''CREATE TABLE users\n",
    "             (email text, password text, userid integer, image text, name text, location text)''')\n",
    "\n",
    "    "
   ]
  },
  {
   "cell_type": "code",
   "execution_count": null,
   "metadata": {},
   "outputs": [],
   "source": [
    "def createUser(email, password, image, name, location):\n",
    "    conn = sqlite3.connect('foodentry.db')\n",
    "    c = conn.cursor()\n",
    "    hashpass = pwd_context.hash(password)\n",
    "\n",
    "    c.execute(\"INSERT INTO users VALUES ('{}', '{}', '{}', '{}', '{}', '{}')\".format(name, \n",
    "                                                                              hashpass, returnCountUsers() + 1, image, \n",
    "                                                                              name, \n",
    "                                                                              location))\n",
    "    \n",
    "    conn.commit()\n",
    "\n",
    "    # We can also close the connection if we are done with it.\n",
    "    # Just be sure any changes have been committed or they will be lost.\n",
    "    conn.close()\n",
    "    returnCountUsers()"
   ]
  },
  {
   "cell_type": "code",
   "execution_count": 35,
   "metadata": {},
   "outputs": [],
   "source": [
    "def createFoodDB(namedb):\n",
    "    conn = sqlite3.connect('{}.db'.format(namedb))\n",
    "    c = conn.cursor()\n",
    "\n",
    "    # Create table\n",
    "    c.execute('''CREATE TABLE foods\n",
    "             (name text, foodid integer, image text, datecook text, dateexpire text, \n",
    "             ingredients text, location text, myid integer, soldstatus integer)''')\n",
    "\n",
    "    "
   ]
  },
  {
   "cell_type": "code",
   "execution_count": 36,
   "metadata": {},
   "outputs": [],
   "source": [
    "def makeFoodEntry(name, image, datecooked, expiredate,\n",
    "                 ingredients, location, myid):\n",
    "    conn = sqlite3.connect('foodentry.db')\n",
    "    c = conn.cursor()\n",
    "    c.execute(\"INSERT INTO foods VALUES ('{}', '{}', '{}', '{}', '{}', '{}', '{}', '{}', '0')\".format(name, \n",
    "                                                                              returnCountFood() + 1, image, \n",
    "                                                                              datecooked, \n",
    "                                                                              expiredate, ingredients, location, myid))\n",
    "    \n",
    "    conn.commit()\n",
    "\n",
    "    # We can also close the connection if we are done with it.\n",
    "    # Just be sure any changes have been committed or they will be lost.\n",
    "    conn.close()\n",
    "\n",
    "    return({'name' : name, 'foodid' : returnCountFood() + 1, 'image' : image, 'datecooked' : datecooked,\n",
    "           'expiredate' : expiredate, 'ingredients' : ingredients, 'location' : location, 'myid' : myid})"
   ]
  },
  {
   "cell_type": "code",
   "execution_count": 37,
   "metadata": {},
   "outputs": [],
   "source": [
    "def returnFoods():\n",
    "    conn = sqlite3.connect('foodentry.db')\n",
    "    c = conn.cursor()\n",
    "    allfod = c.execute('SELECT * FROM foods')\n",
    "    return(allfod.fetchall())\n",
    "    "
   ]
  },
  {
   "cell_type": "code",
   "execution_count": 38,
   "metadata": {},
   "outputs": [],
   "source": [
    "def returnCountFood():\n",
    "    conn = sqlite3.connect('foodentry.db')\n",
    "    c = conn.cursor()\n",
    "    allfod = c.execute('SELECT count(*) FROM foods')\n",
    "    return(allfod.fetchall()[0][0])\n",
    "    "
   ]
  },
  {
   "cell_type": "code",
   "execution_count": 82,
   "metadata": {},
   "outputs": [],
   "source": [
    "def returnCountUsers():\n",
    "    conn = sqlite3.connect('foodentry.db')\n",
    "    c = conn.cursor()\n",
    "    allfod = c.execute('SELECT count(*) FROM users')\n",
    "    return(allfod.fetchall()[0][0])"
   ]
  },
  {
   "cell_type": "code",
   "execution_count": 81,
   "metadata": {},
   "outputs": [],
   "source": [
    "#returncountusers()"
   ]
  },
  {
   "cell_type": "code",
   "execution_count": 83,
   "metadata": {},
   "outputs": [],
   "source": [
    "def returnUsers():\n",
    "    conn = sqlite3.connect('foodentry.db')\n",
    "    c = conn.cursor()\n",
    "    allfod = c.execute('SELECT * FROM users')\n",
    "    return(allfod.fetchall())\n",
    "    "
   ]
  },
  {
   "cell_type": "code",
   "execution_count": null,
   "metadata": {},
   "outputs": [],
   "source": [
    "def returnReviews():\n",
    "    conn = sqlite3.connect('foodentry.db')\n",
    "    c = conn.cursor()\n",
    "    allfod = c.execute('SELECT * FROM reviews')\n",
    "    return(allfod.fetchall())\n",
    "    "
   ]
  },
  {
   "cell_type": "code",
   "execution_count": null,
   "metadata": {},
   "outputs": [],
   "source": []
  },
  {
   "cell_type": "code",
   "execution_count": 46,
   "metadata": {},
   "outputs": [
    {
     "data": {
      "text/plain": [
       "2"
      ]
     },
     "execution_count": 46,
     "metadata": {},
     "output_type": "execute_result"
    }
   ],
   "source": [
    "#returncountfood()"
   ]
  },
  {
   "cell_type": "code",
   "execution_count": 49,
   "metadata": {},
   "outputs": [],
   "source": [
    "def filterFoods(searchfood):\n",
    "    conn = sqlite3.connect('foodentry.db')\n",
    "    c = conn.cursor()\n",
    "    allfod = c.execute('SELECT * FROM foods WHERE foodid = {}'.format(searchfood))\n",
    "    return(allfod.fetchall())\n",
    "    "
   ]
  },
  {
   "cell_type": "code",
   "execution_count": null,
   "metadata": {},
   "outputs": [],
   "source": []
  },
  {
   "cell_type": "code",
   "execution_count": 52,
   "metadata": {},
   "outputs": [
    {
     "data": {
      "text/plain": [
       "[('pasta', '2', 'me.com/img.png', '04/12/1999', '06/12/1999', 'pork, pasta')]"
      ]
     },
     "execution_count": 52,
     "metadata": {},
     "output_type": "execute_result"
    }
   ],
   "source": [
    "#filterfoods(2)"
   ]
  },
  {
   "cell_type": "code",
   "execution_count": null,
   "metadata": {},
   "outputs": [],
   "source": []
  },
  {
   "cell_type": "code",
   "execution_count": 40,
   "metadata": {},
   "outputs": [],
   "source": [
    "def makeFoodRequest(whatfood):\n",
    "    return('you requested {}'.format(whatfood))"
   ]
  },
  {
   "cell_type": "code",
   "execution_count": 41,
   "metadata": {},
   "outputs": [],
   "source": [
    "#createfoodb('foodentry')"
   ]
  },
  {
   "cell_type": "code",
   "execution_count": 44,
   "metadata": {},
   "outputs": [
    {
     "data": {
      "text/plain": [
       "{'datecooked': '04/12/1999',\n",
       " 'expiredate': '06/12/1999',\n",
       " 'foodid': 3,\n",
       " 'image': 'me.com/img.png',\n",
       " 'ingrediants': 'pork, pasta',\n",
       " 'name': 'pasta'}"
      ]
     },
     "execution_count": 44,
     "metadata": {},
     "output_type": "execute_result"
    }
   ],
   "source": [
    "#makefoodentry('pasta', 'me.com/img.png', '04/12/1999', '06/12/1999',\n",
    "#                 'pork, pasta')"
   ]
  },
  {
   "cell_type": "code",
   "execution_count": 45,
   "metadata": {},
   "outputs": [
    {
     "data": {
      "text/plain": [
       "[('something',\n",
       "  '1',\n",
       "  'me.com/img.png',\n",
       "  '04/12/1999',\n",
       "  '06/12/1999',\n",
       "  'pork, pasta'),\n",
       " ('pasta', '2', 'me.com/img.png', '04/12/1999', '06/12/1999', 'pork, pasta')]"
      ]
     },
     "execution_count": 45,
     "metadata": {},
     "output_type": "execute_result"
    }
   ],
   "source": [
    "#returnfoods()"
   ]
  },
  {
   "cell_type": "markdown",
   "metadata": {},
   "source": [
    "donatefood/\n",
    "\n",
    "food info:\n",
    "\n",
    "type: \n",
    "\n",
    "classification: \n",
    "\n",
    "quantity\n",
    "\n",
    "expiration\n",
    "\n",
    "description\n",
    "\n",
    "Donate details: \n",
    "\n",
    "name:\n",
    "\n",
    "rating: \n",
    "\n",
    "location:\n",
    "\n",
    "pickup detail:\n",
    "\n",
    "pickupby:\n",
    "\n",
    "details:\n",
    "\n",
    "pickfood:\n",
    "\n",
    "foodtype: (type of food, ie fruit, vege or meat)\n",
    "\n",
    "further classification apple, cabbage, meat.\n",
    "\n",
    "all food.\n",
    "\n",
    "enter location:\n",
    "\n",
    "\n"
   ]
  },
  {
   "cell_type": "code",
   "execution_count": null,
   "metadata": {},
   "outputs": [],
   "source": []
  },
  {
   "cell_type": "code",
   "execution_count": null,
   "metadata": {},
   "outputs": [],
   "source": []
  }
 ],
 "metadata": {
  "kernelspec": {
   "display_name": "Python 3",
   "language": "python",
   "name": "python3"
  },
  "language_info": {
   "codemirror_mode": {
    "name": "ipython",
    "version": 3
   },
   "file_extension": ".py",
   "mimetype": "text/x-python",
   "name": "python",
   "nbconvert_exporter": "python",
   "pygments_lexer": "ipython3",
   "version": "3.5.1+"
  }
 },
 "nbformat": 4,
 "nbformat_minor": 2
}
