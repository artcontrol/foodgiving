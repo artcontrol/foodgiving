{
 "cells": [
  {
   "cell_type": "code",
   "execution_count": 6,
   "metadata": {},
   "outputs": [],
   "source": [
    "import takehomeleft"
   ]
  },
  {
   "cell_type": "code",
   "execution_count": null,
   "metadata": {},
   "outputs": [],
   "source": [
    "from flask import Flask, request, jsonify, render_template\n",
    "\n",
    "app = Flask(__name__)\n",
    "\n",
    "@app.route('/createdb')\n",
    "def createdb():\n",
    "    nameofdb = request.args.get('nameofdb')\n",
    "    #lenth = request.args.get('length')\n",
    "    #ic.createdbtext(nameofdb)\n",
    "    takehomeleft.createFoodDB(nameofdb)\n",
    "    takehomeleft.createUserDB(nameofdb)\n",
    "    takehomeleft.createReviewDB(nameofdb)\n",
    "\n",
    "    return('{} database created!'.format(nameofdb))\n",
    "\n",
    "@app.route('/createuser', methods=['GET', 'POST'])\n",
    "def createuser():\n",
    "    if request.method == 'POST':\n",
    "        name = request.form.get('name')\n",
    "        email = request.form.get('email')\n",
    "        password = request.form.get('password')\n",
    "        image = request.form.get('image')\n",
    "        location = request.form.get('location')\n",
    "\n",
    "        takehomeleft.createUser(email, password, image, name, location)\n",
    "        return('created user {}'.format(email))\n",
    "    return(render_template('user.html'))\n",
    "\n",
    "@app.route('/createfood', methods=['GET', 'POST'])\n",
    "def createfood():\n",
    "    if request.method == 'POST':\n",
    "        #name, image, datecooked, expiredate,\n",
    "                 #ingredients, location, myid)\n",
    "\n",
    "        name = request.form.get('name')\n",
    "        image = request.form.get('image')\n",
    "        datecooked = request.form.get('datecooked')\n",
    "        expiredate = request.form.get('expiredate')\n",
    "        ingredients = request.form.get('ingredients')\n",
    "        location = request.form.get('location')\n",
    "        myid = request.form.get('myid')\n",
    "\n",
    "\n",
    "        takehomeleft.makeFoodEntry(name, image, datecooked, \n",
    "                                   expiredate, ingredients, location, myid)\n",
    "        return('food created')\n",
    "    return(render_template('createfood.html'))\n",
    "\n",
    "#takehomeleft.createReview(1, 2, 1, 5, 'good foods')\n",
    "@app.route('/createreview', methods=['GET', 'POST'])\n",
    "def createreview():\n",
    "    if request.method == 'POST':\n",
    "        myid = request.form.get('myid')\n",
    "        forid = request.form.get('forid')\n",
    "        idfood = request.form.get('idfood')\n",
    "        rating = request.form.get('rating')\n",
    "        comments = request.form.get('comments')\n",
    "        #def createReview(myid, forid, idfood, rating, comments):\n",
    "\n",
    "        takehomeleft.createReview(myid, forid, idfood, rating, comments)\n",
    "        return('review created')\n",
    "    return(render_template('review.html'))\n",
    "    \n",
    "@app.route('/returnfood', methods=['GET'])\n",
    "def returnfood():\n",
    "    return(str(takehomeleft.returnFoods()))\n",
    "\n",
    "@app.route('/returnusers', methods=['GET'])\n",
    "def returnUsers():\n",
    "    return(str(takehomeleft.returnUsers()))\n",
    "\n",
    "@app.route('/returnreviews', methods=['GET'])\n",
    "def returnReviews():\n",
    "    return(str(takehomeleft.returnReviews()))\n",
    "    \n",
    "\n",
    "\n",
    "if __name__ == '__main__':\n",
    "    app.run(host='0.0.0.0', port=5556) "
   ]
  },
  {
   "cell_type": "code",
   "execution_count": null,
   "metadata": {},
   "outputs": [],
   "source": [
    "makeFoodEntry(name, image, datecooked, expiredate,\n",
    "                 ingredients, location)"
   ]
  },
  {
   "cell_type": "code",
   "execution_count": 7,
   "metadata": {},
   "outputs": [],
   "source": [
    "#takehomeleft.createFoodDB('foodentry')"
   ]
  },
  {
   "cell_type": "code",
   "execution_count": 8,
   "metadata": {},
   "outputs": [],
   "source": [
    "#takehomeleft.createUserDB('foodentry')"
   ]
  },
  {
   "cell_type": "code",
   "execution_count": 9,
   "metadata": {},
   "outputs": [],
   "source": [
    "#takehomeleft.createReviewDB('foodentry')"
   ]
  },
  {
   "cell_type": "code",
   "execution_count": 16,
   "metadata": {},
   "outputs": [],
   "source": [
    "\n",
    "#takehomeleft.createUser('joe@me.com', 'test123', 'me.com/joe.png', 'Joe Mckee', '-33.865143, 151.209900')"
   ]
  },
  {
   "cell_type": "code",
   "execution_count": 17,
   "metadata": {},
   "outputs": [
    {
     "data": {
      "text/plain": [
       "{'datecooked': '04-12-1999',\n",
       " 'expiredate': '06-12-1999',\n",
       " 'foodid': 3,\n",
       " 'image': 'me.com/pasta.png',\n",
       " 'ingredients': 'chicken',\n",
       " 'location': '-33.865143, 151.209900',\n",
       " 'name': 'chick con cane'}"
      ]
     },
     "execution_count": 17,
     "metadata": {},
     "output_type": "execute_result"
    }
   ],
   "source": [
    "#takehomeleft.makeFoodEntry('chick con cane', 'me.com/pasta.png', '04-12-1999', '06-12-1999', 'chicken', '-33.865143, 151.209900')"
   ]
  },
  {
   "cell_type": "code",
   "execution_count": null,
   "metadata": {},
   "outputs": [],
   "source": []
  },
  {
   "cell_type": "code",
   "execution_count": 18,
   "metadata": {},
   "outputs": [],
   "source": [
    "#takehomeleft.createReview(1, 2, 1, 5, 'good foods')"
   ]
  },
  {
   "cell_type": "code",
   "execution_count": null,
   "metadata": {},
   "outputs": [],
   "source": []
  },
  {
   "cell_type": "code",
   "execution_count": null,
   "metadata": {},
   "outputs": [],
   "source": []
  },
  {
   "cell_type": "code",
   "execution_count": null,
   "metadata": {},
   "outputs": [],
   "source": []
  },
  {
   "cell_type": "code",
   "execution_count": 19,
   "metadata": {},
   "outputs": [
    {
     "data": {
      "text/plain": [
       "[('chick con cane',\n",
       "  '1',\n",
       "  'me.com/pasta.png',\n",
       "  '04-12-1999',\n",
       "  '06-12-1999',\n",
       "  'chicken',\n",
       "  '-33.865143, 151.209900'),\n",
       " ('chick con cane',\n",
       "  '2',\n",
       "  'me.com/pasta.png',\n",
       "  '04-12-1999',\n",
       "  '06-12-1999',\n",
       "  'chicken',\n",
       "  '-33.865143, 151.209900')]"
      ]
     },
     "execution_count": 19,
     "metadata": {},
     "output_type": "execute_result"
    }
   ],
   "source": [
    "#takehomeleft.returnFoods()"
   ]
  },
  {
   "cell_type": "code",
   "execution_count": 20,
   "metadata": {},
   "outputs": [
    {
     "data": {
      "text/plain": [
       "[('chick con cane',\n",
       "  '1',\n",
       "  'me.com/pasta.png',\n",
       "  '04-12-1999',\n",
       "  '06-12-1999',\n",
       "  'chicken',\n",
       "  '-33.865143, 151.209900')]"
      ]
     },
     "execution_count": 20,
     "metadata": {},
     "output_type": "execute_result"
    }
   ],
   "source": [
    "#takehomeleft.filterFoods(1)"
   ]
  },
  {
   "cell_type": "code",
   "execution_count": 21,
   "metadata": {},
   "outputs": [
    {
     "data": {
      "text/plain": [
       "[('chick con cane',\n",
       "  '1',\n",
       "  'me.com/pasta.png',\n",
       "  '04-12-1999',\n",
       "  '06-12-1999',\n",
       "  'chicken',\n",
       "  '-33.865143, 151.209900'),\n",
       " ('chick con cane',\n",
       "  '2',\n",
       "  'me.com/pasta.png',\n",
       "  '04-12-1999',\n",
       "  '06-12-1999',\n",
       "  'chicken',\n",
       "  '-33.865143, 151.209900')]"
      ]
     },
     "execution_count": 21,
     "metadata": {},
     "output_type": "execute_result"
    }
   ],
   "source": [
    "#takehomeleft.returnFoods()"
   ]
  },
  {
   "cell_type": "code",
   "execution_count": 25,
   "metadata": {},
   "outputs": [
    {
     "data": {
      "text/plain": [
       "[('Joe Mckee',\n",
       "  'test123',\n",
       "  '1',\n",
       "  'me.com/joe.png',\n",
       "  'Joe Mckee',\n",
       "  '-33.865143, 151.209900'),\n",
       " ('Joe Mckee',\n",
       "  'test123',\n",
       "  '2',\n",
       "  'me.com/joe.png',\n",
       "  'Joe Mckee',\n",
       "  '-33.865143, 151.209900'),\n",
       " ('None', 'qwert123', '3', '', 'None', ''),\n",
       " ('None', 'qwerty123', '4', 'me.com/hello.jpg', 'None', '45, 54'),\n",
       " ('William', 'qwerty123', '5', 'me.com/me.jpg', 'William', '45, 56')]"
      ]
     },
     "execution_count": 25,
     "metadata": {},
     "output_type": "execute_result"
    }
   ],
   "source": [
    "takehomeleft.returnUsers()"
   ]
  },
  {
   "cell_type": "code",
   "execution_count": null,
   "metadata": {},
   "outputs": [],
   "source": []
  },
  {
   "cell_type": "code",
   "execution_count": 23,
   "metadata": {},
   "outputs": [
    {
     "data": {
      "text/plain": [
       "[(1.0, 2.0, 1.0, 5.0, 'good foods', '2018-12-15 04:10:01.976447+00:00'),\n",
       " (1.0, 2.0, 1.0, 5.0, 'good foods', '2018-12-15 04:23:30.695474+00:00')]"
      ]
     },
     "execution_count": 23,
     "metadata": {},
     "output_type": "execute_result"
    }
   ],
   "source": [
    "#takehomeleft.returnReviews()"
   ]
  },
  {
   "cell_type": "code",
   "execution_count": null,
   "metadata": {},
   "outputs": [],
   "source": []
  }
 ],
 "metadata": {
  "kernelspec": {
   "display_name": "Python 3",
   "language": "python",
   "name": "python3"
  },
  "language_info": {
   "codemirror_mode": {
    "name": "ipython",
    "version": 3
   },
   "file_extension": ".py",
   "mimetype": "text/x-python",
   "name": "python",
   "nbconvert_exporter": "python",
   "pygments_lexer": "ipython3",
   "version": "3.5.1+"
  }
 },
 "nbformat": 4,
 "nbformat_minor": 2
}
